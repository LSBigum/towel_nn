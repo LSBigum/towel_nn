{
 "cells": [
  {
   "cell_type": "code",
   "execution_count": null,
   "metadata": {},
   "outputs": [],
   "source": [
    "# import the necessary packages\n",
    "from keras.preprocessing.image import img_to_array\n",
    "from keras.models import load_model\n",
    "import numpy as np\n",
    "import imutils\n",
    "from imutils import paths\n",
    "import cv2\n",
    "import os, time\n",
    "from matplotlib import pyplot as plt\n",
    "import seaborn as sns\n",
    "from sklearn.metrics import confusion_matrix\n",
    "import math\n",
    "%matplotlib inline"
   ]
  },
  {
   "cell_type": "code",
   "execution_count": null,
   "metadata": {},
   "outputs": [],
   "source": [
    "# load the images\n",
    "imageDirectory = \"testimages/\"\n",
    "#cvimage = cv2.imread(\"color86.png\")\n",
    "#cvimage.shape\n",
    "#orig = image.copy()"
   ]
  },
  {
   "cell_type": "code",
   "execution_count": null,
   "metadata": {},
   "outputs": [],
   "source": [
    "data = []\n",
    "labels = []\n",
    "orig = []\n",
    "imagePaths = sorted(list(paths.list_images(imageDirectory)))\n",
    "# loop over the input images\n",
    "for imagePath in imagePaths:\n",
    "    # load the image, pre-process it, and store it in the data list\n",
    "    image = cv2.imread(imagePath)\n",
    "    orig.append(image)\n",
    "    image = cv2.resize(image, (128, 128))\n",
    "    image = img_to_array(image)\n",
    "    data.append(image)\n",
    "    \n",
    "\n",
    "    # extract the class label from the image path and update the\n",
    "    # labels list\n",
    "    label = imagePath.split(os.path.sep)[-2]\n",
    "    #print(label)\n",
    "    if label == \"True\":\n",
    "        label = True\n",
    "    else: \n",
    "        label = False\n",
    "    labels.append(label)\n",
    "    #print(imagePath)"
   ]
  },
  {
   "cell_type": "code",
   "execution_count": null,
   "metadata": {},
   "outputs": [
    {
     "name": "stdout",
     "output_type": "stream",
     "text": [
      "[INFO] loading network...\n"
     ]
    }
   ],
   "source": [
    "# load the trained convolutional neural network\n",
    "print(\"[INFO] loading network...\")\n",
    "model = load_model(\"towel.model\")"
   ]
  },
  {
   "cell_type": "code",
   "execution_count": null,
   "metadata": {},
   "outputs": [],
   "source": [
    "# pre-process the image for classification\n",
    "for image in data:\n",
    "    image = cv2.resize(image, (128, 128))\n",
    "    image = image.astype(\"float\") / 255.0\n",
    "    image = img_to_array(image)\n",
    "    image = np.expand_dims(image, axis=0)"
   ]
  },
  {
   "cell_type": "raw",
   "metadata": {},
   "source": [
    "data = np.array(data)"
   ]
  },
  {
   "cell_type": "raw",
   "metadata": {
    "scrolled": false
   },
   "source": [
    "predictions = model.predict(data, steps=1)\n",
    "#print(\"True = \",true, \" False = \",false)\n",
    "#label = \"True\" if true > false else \"False\"\n",
    "#probability = max(true, false)\n",
    "#label = \"{}: {:.2f}%\".format(label, probability * 100)"
   ]
  },
  {
   "cell_type": "raw",
   "metadata": {},
   "source": [
    "predictions"
   ]
  },
  {
   "cell_type": "raw",
   "metadata": {},
   "source": [
    "cm = confusion_matrix(np.round(predictions[:,0]), labels)"
   ]
  },
  {
   "cell_type": "raw",
   "metadata": {},
   "source": [
    "ax = plt.axes()\n",
    "sns.heatmap(cm,annot=True,fmt='.5g', ax = ax) \n",
    "plt.xlabel('Predicted label')\n",
    "plt.ylabel('True label')\n",
    "plt.show()\n",
    "\n"
   ]
  },
  {
   "cell_type": "raw",
   "metadata": {},
   "source": [
    "cv2.imshow(\"orig\", orig[0])\n",
    "cv2.waitKey(0)"
   ]
  },
  {
   "cell_type": "code",
   "execution_count": null,
   "metadata": {
    "scrolled": true
   },
   "outputs": [
    {
     "name": "stdout",
     "output_type": "stream",
     "text": [
      "Amount of test images: 22\n",
      "True =  0.0  False =  1.0\n"
     ]
    }
   ],
   "source": [
    "# classify the input image\n",
    "print(\"Amount of test images:\", len(data))\n",
    "i = 0\n",
    "for img in data:\n",
    "    img = np.expand_dims(img, axis=0)\n",
    "    (false, true) = model.predict(img)[0]\n",
    "    print(\"True = \",true, \" False = \",false)\n",
    "    # build the label\n",
    "    label = \"True\" if true > false else \"False\"\n",
    "    probability = max(true, false)\n",
    "    label = \"{}: {:.2f}%\".format(label, probability * 100)\n",
    "    output = imutils.resize(orig[i], width=400)\n",
    "    cv2.putText(output, label, (200, 25),  cv2.FONT_HERSHEY_SIMPLEX, 0.7, (200, 255, 40), 2)\n",
    "    # show the output image\n",
    "    cv2.imshow(\"Output\", output)\n",
    "    #cv2.imwrite(\"towel_classify2.jpg\", output)\n",
    "    cv2.waitKey(0)\n",
    "    i += 1\n",
    "cv2.destroyAllWindows()\n"
   ]
  },
  {
   "cell_type": "raw",
   "metadata": {},
   "source": [
    "# draw the label on the image\n",
    "for orig_img in orig:\n",
    "    output = imutils.resize(orig_img, width=400)\n",
    "    cv2.putText(output, label, (200, 25),  cv2.FONT_HERSHEY_SIMPLEX, 0.7, (200, 255, 40), 2)\n",
    "    # show the output image\n",
    "    cv2.imshow(\"Output\", output)\n",
    "    #cv2.imwrite(\"towel_classify2.jpg\", output)\n",
    "    cv2.waitKey(0)"
   ]
  },
  {
   "cell_type": "code",
   "execution_count": null,
   "metadata": {},
   "outputs": [],
   "source": []
  },
  {
   "cell_type": "code",
   "execution_count": null,
   "metadata": {},
   "outputs": [],
   "source": []
  }
 ],
 "metadata": {
  "kernelspec": {
   "display_name": "Python 3",
   "language": "python",
   "name": "python3"
  },
  "language_info": {
   "codemirror_mode": {
    "name": "ipython",
    "version": 3
   },
   "file_extension": ".py",
   "mimetype": "text/x-python",
   "name": "python",
   "nbconvert_exporter": "python",
   "pygments_lexer": "ipython3",
   "version": "3.5.2"
  }
 },
 "nbformat": 4,
 "nbformat_minor": 2
}
